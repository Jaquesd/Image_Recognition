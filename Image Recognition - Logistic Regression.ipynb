{
 "cells": [
  {
   "cell_type": "markdown",
   "id": "3d37aa08-b563-4902-ac1e-a49371685a1d",
   "metadata": {},
   "source": [
    "# Packages and Instalations"
   ]
  },
  {
   "cell_type": "code",
   "execution_count": 8,
   "id": "2ca0ad0c-ed64-49c4-a6a0-93e5989d3069",
   "metadata": {},
   "outputs": [],
   "source": [
    "# Imports\n",
    "from platform import python_version\n",
    "import math\n",
    "import pickle\n",
    "import random\n",
    "import numpy as np\n",
    "import matplotlib.pyplot as plt\n",
    "%matplotlib inline"
   ]
  },
  {
   "cell_type": "code",
   "execution_count": 15,
   "id": "47d9a1e3-baa1-4b91-a869-4d022261352c",
   "metadata": {},
   "outputs": [
    {
     "name": "stdout",
     "output_type": "stream",
     "text": [
      "Python: 3.9.13\n",
      "matplotlib: 3.5.2\n",
      "numpy     : 1.21.5\n",
      "\n"
     ]
    }
   ],
   "source": [
    "# python and package version\n",
    "# install watermark package if do not have -> !pip install -q -U watermark\n",
    "\n",
    "%reload_ext watermark\n",
    "print('Python:', python_version())\n",
    "%watermark --iversions"
   ]
  },
  {
   "cell_type": "code",
   "execution_count": null,
   "id": "099a71ad-ea77-4974-ac19-999605efb0d7",
   "metadata": {},
   "outputs": [],
   "source": []
  }
 ],
 "metadata": {
  "kernelspec": {
   "display_name": "Python 3 (ipykernel)",
   "language": "python",
   "name": "python3"
  },
  "language_info": {
   "codemirror_mode": {
    "name": "ipython",
    "version": 3
   },
   "file_extension": ".py",
   "mimetype": "text/x-python",
   "name": "python",
   "nbconvert_exporter": "python",
   "pygments_lexer": "ipython3",
   "version": "3.9.13"
  }
 },
 "nbformat": 4,
 "nbformat_minor": 5
}
